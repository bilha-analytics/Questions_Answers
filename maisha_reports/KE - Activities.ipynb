{
 "cells": [
  {
   "cell_type": "raw",
   "metadata": {},
   "source": [
    "<script>\n",
    "  function code_toggle() {\n",
    "    if (code_shown){\n",
    "      $('div.input').hide('500');\n",
    "      $('#toggleButton').val('Show Code')\n",
    "    } else {\n",
    "      $('div.input').show('500');\n",
    "      $('#toggleButton').val('Hide Code')\n",
    "    }\n",
    "    code_shown = !code_shown\n",
    "  }\n",
    "\n",
    "  $( document ).ready(function(){\n",
    "    code_shown=false;\n",
    "    $('div.input').hide()\n",
    "  });\n",
    "</script>\n",
    "<form action=\"javascript:code_toggle()\"><input type=\"submit\" id=\"toggleButton\" value=\"Show Code\"></form>"
   ]
  },
  {
   "cell_type": "markdown",
   "metadata": {
    "toc": true
   },
   "source": [
    "<h1>Table of Contents<span class=\"tocSkip\"></span></h1>\n",
    "<div class=\"toc\"><ul class=\"toc-item\"><li><span><a href=\"#Introduction\" data-toc-modified-id=\"Introduction-1\"><span class=\"toc-item-num\">1&nbsp;&nbsp;</span>Introduction</a></span><ul class=\"toc-item\"><li><span><a href=\"#Summary-of-Findings\" data-toc-modified-id=\"Summary-of-Findings-1.1\"><span class=\"toc-item-num\">1.1&nbsp;&nbsp;</span>Summary of Findings</a></span></li></ul></li><li><span><a href=\"#Dataset-Status\" data-toc-modified-id=\"Dataset-Status-2\"><span class=\"toc-item-num\">2&nbsp;&nbsp;</span>Dataset Status</a></span><ul class=\"toc-item\"><li><span><a href=\"#Summary-Stats\" data-toc-modified-id=\"Summary-Stats-2.1\"><span class=\"toc-item-num\">2.1&nbsp;&nbsp;</span>Summary Stats</a></span></li><li><span><a href=\"#Missing-Data-and-Outliers\" data-toc-modified-id=\"Missing-Data-and-Outliers-2.2\"><span class=\"toc-item-num\">2.2&nbsp;&nbsp;</span>Missing Data and Outliers</a></span></li></ul></li><li><span><a href=\"#Relationships\" data-toc-modified-id=\"Relationships-3\"><span class=\"toc-item-num\">3&nbsp;&nbsp;</span>Relationships</a></span><ul class=\"toc-item\"><li><span><a href=\"#Correlations\" data-toc-modified-id=\"Correlations-3.1\"><span class=\"toc-item-num\">3.1&nbsp;&nbsp;</span>Correlations</a></span><ul class=\"toc-item\"><li><span><a href=\"#Key-Performance-Indicators\" data-toc-modified-id=\"Key-Performance-Indicators-3.1.1\"><span class=\"toc-item-num\">3.1.1&nbsp;&nbsp;</span>Key Performance Indicators</a></span></li><li><span><a href=\"#Diseases\" data-toc-modified-id=\"Diseases-3.1.2\"><span class=\"toc-item-num\">3.1.2&nbsp;&nbsp;</span>Diseases</a></span><ul class=\"toc-item\"><li><span><a href=\"#Malaria:-We-probably-do-malaria-the-best-of-all-the-services-we-provide.-\" data-toc-modified-id=\"Malaria:-We-probably-do-malaria-the-best-of-all-the-services-we-provide.--3.1.2.1\"><span class=\"toc-item-num\">3.1.2.1&nbsp;&nbsp;</span><strong>Malaria: We probably do malaria the best of all the services we provide. </strong></a></span></li><li><span><a href=\"#-Pneumonia-&amp;-Diarrhoea-could-potentially-benefit-from-more-at-home/CHP-care-or-preventative-HH-practices\" data-toc-modified-id=\"-Pneumonia-&amp;-Diarrhoea-could-potentially-benefit-from-more-at-home/CHP-care-or-preventative-HH-practices-3.1.2.2\"><span class=\"toc-item-num\">3.1.2.2&nbsp;&nbsp;</span><strong> Pneumonia &amp; Diarrhoea could potentially benefit from more at-home/CHP care or preventative HH practices</strong></a></span></li><li><span><a href=\"#-Childcare-is-potentially-mainly-directed-at-U1s-From-the-third-table\" data-toc-modified-id=\"-Childcare-is-potentially-mainly-directed-at-U1s-From-the-third-table-3.1.2.3\"><span class=\"toc-item-num\">3.1.2.3&nbsp;&nbsp;</span><strong> Childcare is potentially mainly directed at U1s</strong> From the third table</a></span></li></ul></li><li><span><a href=\"#Sales\" data-toc-modified-id=\"Sales-3.1.3\"><span class=\"toc-item-num\">3.1.3&nbsp;&nbsp;</span>Sales</a></span></li><li><span><a href=\"#By-HH-Quintiles\" data-toc-modified-id=\"By-HH-Quintiles-3.1.4\"><span class=\"toc-item-num\">3.1.4&nbsp;&nbsp;</span>By HH Quintiles</a></span></li></ul></li></ul></li></ul></div>"
   ]
  },
  {
   "cell_type": "markdown",
   "metadata": {},
   "source": [
    "# Introduction\n",
    "\n",
    "Getting to understand the KE operations\n",
    "\n",
    "**Note**\n",
    "- Analysis in this report does not recognize geographic difference b/c branch mapping is not yet included. \n",
    "- This dataset is based on dashboard download for all KE CHPs as at 19-Mar\n",
    "- Correlation is not causality\n",
    "    - Statements made are more of conjecture - suggestive of areas for further investigation  \n",
    "\n",
    "\n",
    "**Interprating Correlations**\n",
    "Correlation coefficients whose magnitude are \n",
    "- between 0.9 and 1.0 indicate variables which can be considered *very highly correlated.*\n",
    "- between 0.7 and 0.9 indicate variables which can be considered *highly correlated.* \n",
    "- between 0.5 and 0.7 indicate variables which can be considered *moderately correlated.*\n",
    "- between 0.3 and 0.5 indicate variables which have a *low correlation.* \n",
    "- less than 0.3 have little if any (linear) correlation. \n",
    "\n",
    "- As the homogeneity of a group increases, the variance decreases and the magnitude of the correlation coefficient tends toward zero. It critical to have heterogeneity (variation) so that a relationship can manifest itself. \n",
    "    - In general, the correlation coefficient is not affected by the size of the group.\n",
    "\n",
    "## Summary of Findings\n"
   ]
  },
  {
   "cell_type": "code",
   "execution_count": null,
   "metadata": {
    "collapsed": true
   },
   "outputs": [],
   "source": [
    "## Setup\n",
    "# load libs/modules\n",
    "%run \"../utils/load_envz.ipynb\""
   ]
  },
  {
   "cell_type": "code",
   "execution_count": null,
   "metadata": {
    "collapsed": true
   },
   "outputs": [],
   "source": [
    "# Load data set \n",
    "DATA_DIR = \"../dataset\"\n",
    "DATA_FILE = \"all_KE_CHVs_data_1493.csv\" \n",
    "dataset = pd.read_csv( \"%s/%s\" % (DATA_DIR, DATA_FILE) )"
   ]
  },
  {
   "cell_type": "code",
   "execution_count": null,
   "metadata": {
    "collapsed": true
   },
   "outputs": [],
   "source": [
    "## themes | variable - outcome mapping\n",
    "argz_Units = [\"CHP ID\", \"Households Registered\"] \n",
    "argz_Ops = [ \"Sales\", \"Community Events\"]\n",
    "argz_pregoz = [ \"Pregnancy\", \"PNC Visit Rate\", \"PNC Visit Missed - #\"]\n",
    "argz_U5_care = [\"Total U5 Assessments\", \"Total U5 Treatments\"]\n",
    "argz_U1_care = [\"Total U1 Assessments\", \"Total U1 Treatments\"]\n",
    "argz_malaria = [ \"All Malaria Assessments\", \"All Malaria Treatments\", \"Act 6pack Issue\", \"mRDT Used\", \"%mRDT\"]\n",
    "argz_U5_diseases = [\"U5 Malaria\", \"U5 Diarrhea\", \"U5 Pneumonia\"]\n",
    "\n",
    "argz_EPMs = [\"Households Registered\", \"Sales\", \"Community Events\", \"Total U5 Assessments\", \"Total U1 Assessments\", \"Pregnancy\"]\n",
    "\n",
    "## Additional Columns\n",
    "dataset[\"Country\"] = \"KE\"\n",
    "#dataset[\"HHQuintiles\"] = pd.qcut( dataset[\"Households Registered\"], 5, labels=[\"HH_Quint_1\", \"HH_Quint_2\", \"HH_Quint_3\", \"HH_Quint_4\", \"HH_Quint_5\"])\n",
    "dnul = pd.Series( [\"Households Registered\"]).apply( lambda x: quintilize(dataset, x, labelzPrefix=\"HH_Quints\" ) )\n",
    "dataset[\"Class_Sales_Levels\"] = np.where( dataset[\"Sales\"] < 3500 , \"Below_3500\", np.where(dataset[\"Sales\"] < 10000, \"3500_to_10K\", \"Above_10K\") ) \n"
   ]
  },
  {
   "cell_type": "markdown",
   "metadata": {},
   "source": [
    "# Dataset Status\n",
    "## Summary Stats\n",
    "\n",
    "**Reach**: Number of CHPs, Number of Households, Average Households per CHP\n",
    "    \n",
    "**Impact??**  Number of Assessments - U5, U1, Malaria \n",
    "    \n",
    "**Key KPIs**: Households Registered, Sales, Community Events, Pregnancy, Total U5 (child care), Malaria, \n"
   ]
  },
  {
   "cell_type": "code",
   "execution_count": null,
   "metadata": {},
   "outputs": [],
   "source": [
    "# Sample structure \n",
    "sampleStructure(dataset, \"Country\") \n",
    "#dataset[ dataset[\"Households Registered\"] < dataset[\"Households Registered\"].mean() ][\"Households Registered\"].count()\n",
    "#pd.pivot_table( dataset, values= argz_EPMs, index=[\"Country\"], aggfunc=[sum, np.mean, ])"
   ]
  },
  {
   "cell_type": "code",
   "execution_count": null,
   "metadata": {},
   "outputs": [],
   "source": [
    "summarizer(dataset)"
   ]
  },
  {
   "cell_type": "markdown",
   "metadata": {},
   "source": [
    "## Missing Data and Outliers \n",
    "\n",
    "The below graph shows the distribution of households registered. \n",
    "\n",
    "- All other activities are pegged on household registration \n",
    "\n",
    "\n",
    "- There are outliers; CHVS with households greater than 250 or less than 50. \n",
    "    - The less than 50 may be b/c of ongoingin (new) expansion activities. \n",
    "    - The more than 250 b/c ???\n",
    "\n",
    "\n",
    "- We remove outliers for the rest of the analysis \n"
   ]
  },
  {
   "cell_type": "code",
   "execution_count": null,
   "metadata": {
    "scrolled": true
   },
   "outputs": [],
   "source": [
    "# outlier based on distribution of household registration \n",
    "sns.distplot( dataset[\"Households Registered\"])"
   ]
  },
  {
   "cell_type": "code",
   "execution_count": null,
   "metadata": {},
   "outputs": [],
   "source": [
    "## Remove outliers\n",
    "# updating dataset to HH > 20 and < 250 \n",
    "dt_outliers = dataset[ (dataset[\"Households Registered\"] < 20) | (dataset[\"Households Registered\"] > 250) ]\n",
    "dataset.drop( dt_outliers.index, inplace=True) #<< TODO: go back to boolean indexing\n",
    "\n",
    "sns.distplot( dataset[\"Households Registered\"]) \n",
    "sampleStructure(dataset, \"Country\") \n"
   ]
  },
  {
   "cell_type": "markdown",
   "metadata": {},
   "source": [
    "# Relationships\n",
    "\n",
    "For this section, outliers have been removed; the analysis does not include outliers. \n",
    "\n",
    "First we explore the correlations then we do some regression (logit/probit, linear regression) for the interesting variables and potentially a classification. "
   ]
  },
  {
   "cell_type": "markdown",
   "metadata": {},
   "source": [
    "## Correlations\n",
    "\n",
    "### Key Performance Indicators\n",
    "\n",
    "Relating household registration, sales activities and key assessment activities. Note that correlations below 0.3 may be indicative of nothing\n",
    "\n",
    "- **Community events relate more with child assessments than with sales.** \n",
    "    - An expectation is that community events are opportunities for driving sales. \n",
    "    - Sales has highest correlation with community events but community events is more correlated with child assessment than with sales. The correlation with sale is 0.13 compared to 0.3 with U5 assessments. \n",
    "\n",
    "\n",
    "- ** We potentially rarely discover new families or households outside of those we already service in some way. **  \n",
    "    - New pregnancies are discovered within already known households whose children are attended to OR  new children cases are mainly within households where pregnancies are discovered. \n",
    "    - Household registration happen around pregnancy registrations OR pregnancy registrations happen around household registration. \n",
    "\n",
    "\n",
    "\n",
    "\n",
    "**The values **\n",
    "\n",
    "- Correlations of 0.3 or more magnitude\n",
    "    - U1 assessments are part of U5 assessments. Therefore, that association is expected. \n",
    "    - Community events have the highest association with U5 assessments. \n",
    "    \n",
    "\n",
    "- Correlations of 0.2 to 0.3 magnitude \n",
    "    - Pregnancy has highest association with U1 (and U5) assessments\n",
    "\n",
    "\n",
    "- Correlations of less than 0.2 magnitude\n",
    "    - Household registration has highest association with Pregnancy\n",
    "    - Sales has highest association with community events. \n",
    "    "
   ]
  },
  {
   "cell_type": "code",
   "execution_count": null,
   "metadata": {},
   "outputs": [],
   "source": [
    "#plotCorrz( corrz(dataset, argz_EPMs) )\n",
    "print(\"1. Correlation of the key KPIs\")\n",
    "cout = corrz(dataset, argz_EPMs)\n",
    "cout\n",
    "plotCorrz( cout )"
   ]
  },
  {
   "cell_type": "markdown",
   "metadata": {
    "collapsed": true
   },
   "source": [
    "### Diseases \n",
    "\n",
    "#### **Malaria: We probably do malaria the best of all the services we provide. **\n",
    "- Malaria variables have the strongest correlations in the dataset\n",
    "   - The first table shows correlations within malaria activities. \n",
    "   - the are high magnitude values, close to 1  \n",
    "       \n",
    "- Association between ACT 6 pack and mRDT use suggest consistency of service delivery \n",
    "   - This can be seen in first table below. The magnitudes are high - strong associations, near 1 \n",
    "       \n",
    "- Potentially, we treat most of the malaria cases that are assessed instead of say referrering \n",
    "   - From the third table, referral f/u has lowest correlation with malaria compared to the other diseases.\n",
    "       \n",
    "- ** Malaria is potentially the largest service** we provide OR record (digitize) well so far. \n",
    "    - Child care (U5 assessments and treatment) is most correlated with malaria disease. This is seen in the third table below. \n",
    "      \n",
    "       \n",
    "- **So, should we \n",
    "    1). Open it to non-iCCM/eMNCH cases?**\n",
    "            - Expand service to all members of a household? \n",
    "    **2). Monetize it or subsidize it? **\n",
    "             - There's pontentially reasonable and ready demand. We could follow market pricing on this one; subsidize in regions where it is subsidized and sell at market rates where it is not. \n",
    "        \n",
    "        \n",
    "\n",
    "\n",
    "\n",
    "\n",
    "#### ** Pneumonia & Diarrhoea could potentially benefit from more at-home/CHP care or preventative HH practices** \n",
    "- Referral follow-up is most correlated with pneumonia. The magnitude is not large (0.3) but potentially indicative. \n",
    "    - pneumonia cases may be more driven by U1 care. \n",
    "    - What other records do we keep\n",
    "\n",
    "- Of the diseases, pneumonia and diarrhoea have the highest association. The magnitude is not large (0.3), though.  \n",
    "    - Curious??? Diarrhoea is about hygine and at-home best practices. \n",
    "    - Looking at the two, pneumonia seems to be driven more by U1 cases and diarrhoea by the other ages. \n",
    "    - Could it be that these need **more support via HH practices?** We potentially need more HH training and tools for preventative care? \n",
    "    \n",
    "    \n",
    "- Pneumonia may be getting the most follow-up activity\n",
    "\n",
    "- So, could we do more for pneumonia?\n",
    "    - Do we need to; what's the demand? \n",
    "    - What could we do via CHV? \n",
    "    \n",
    "\n",
    "\n",
    "\n",
    "    \n",
    "#### ** Childcare is potentially mainly directed at U1s** From the third table\n",
    "- Is it a function of the demographics and disease incidences? TBD: more from national databases. \n",
    "- Could it relate to earlier observation on pregnancies and child assessments? **Are we inadvertently not targeting all potential children and households we could** by attending to children from pregnancies we've register or to pregnancies/deliveries within existing children? \n",
    "\n",
    "- Are other children U5 about **other cases that we don't attend to, may be?** \n",
    "    - Correlation between U5 assessments and treatment is 0.7 and between U5 assessments and referral f/u is 0.4. \n",
    "    - There's good association.\n",
    "    - Looking at the malaria correlations, I wonder if these could also be stronger. And if so, why not? \n",
    "    \n",
    "    \n"
   ]
  },
  {
   "cell_type": "code",
   "execution_count": null,
   "metadata": {},
   "outputs": [],
   "source": [
    "## Malaria  \n",
    "print( \"2. Correlation within Malaria Variables\")\n",
    "cout1 = corrz(dataset, argz_malaria  )\n",
    "cout1"
   ]
  },
  {
   "cell_type": "code",
   "execution_count": null,
   "metadata": {},
   "outputs": [],
   "source": [
    "## All U5 Diseases\n",
    "## Diseases \n",
    "print( \"3. Correlation within U5 Diseases\")\n",
    "cout2 = corrz(dataset, argz_U5_diseases+[\"Total U5 Assessments\", \"On Time Referral f/u Treatment U5\", \"Total U1 Assessments\"])\n",
    "cout2"
   ]
  },
  {
   "cell_type": "code",
   "execution_count": null,
   "metadata": {
    "collapsed": true
   },
   "outputs": [],
   "source": [
    "#fig, ax = plt.subplots( figsize=(10,10))\n",
    "#plotCorrz( cout1 )\n",
    "#plotCorrz( cout2 ) "
   ]
  },
  {
   "cell_type": "code",
   "execution_count": null,
   "metadata": {},
   "outputs": [],
   "source": [
    "## All U5 Diseases + U1 \n",
    "print( \"4. Correlation within both U5 and U1 diseases\")\n",
    "cout3 = corrz(dataset, argz_U5_diseases+argz_U5_care+argz_U1_care)\n",
    "cout3 \n",
    "plotCorrz( cout3 )"
   ]
  },
  {
   "cell_type": "markdown",
   "metadata": {},
   "source": [
    "### Sales \n",
    "\n",
    "We categorize CHPs based on sales levels. We have 3 broad categories\n",
    "- Below KES 3,500 sales\n",
    "- 3500 to 10,000 sales\n",
    "- above 10,000 sales\n",
    "\n",
    "\n",
    "##### ** Sales Level Below 3,500 **\n",
    "- A big proportion, 98%, are below the 3500 sales target.\n",
    "\n",
    "    - Previous observations, therefore, relate to this group. Nothing new about this group. \n",
    "    \n",
    "    - Sample sizes are small for comparisons within the other two groups of (3500-10K and above 10K sales). n < 30 so using Spearman method\n",
    "    \n",
    "\n",
    "\n",
    "##### ** Sales Level 3,500 - 10,000**\n",
    "- They have a higher average HHs per CHP (133). \n",
    "    - They do both sales and household registration well and have similar averages for health as the other groups. \n",
    "    - Could it be that it is possible to achieve both sales and health targets? \n",
    "        - What are they doing different?\n",
    "        - how to transfer that to other CHPs? \n",
    "        - Potentially also use their averages as KPI benchmarks? \n",
    "        \n",
    "- However, Sales is inversely correlated with household registration, pregnancy and U5 assessmet within this group. But, Community events is most correlated with Sales for this group followed by U1 assessments. \n",
    "    - Curious!!\n",
    "    - **This group may be using community events to drive sales; they are potentially not chasing sales door-to-door during household registration and U5 health care delivery.** \n",
    "    - Wonder why U1 assessments could be associated with higher sales. Is it type of medication or are they discovering new households around new-born activities?? What?? \n",
    "    - Do they potentialy have targetted conversations already? Leaving household visits for registration and childcare and using new births and community events to discover new households and sell???\n",
    "\n",
    "\n",
    "\n",
    "\n",
    "##### ** Sales Level Above 10,000** Note, n=3 here, too small.\n",
    " - n = 3, likely outliers w/r/t sales levels. \n",
    " - Avgerage CHP households registered are just about the country average (98 Vs 99). \n",
    "     - are they reaching/discovering new households but potentially not registering them b/c sales focus OR potentially targeting higher income level households?\n",
    "         - Probably unlikely they could be pitching high volumes to the same households. \n",
    "         - May be they pitch high ticket products well. But then again a question of the income level of the households they are selling to and or how they are handling credit and/or payment for those large ticket items?\n",
    "         - They average 14,358 sales. "
   ]
  },
  {
   "cell_type": "code",
   "execution_count": null,
   "metadata": {},
   "outputs": [],
   "source": [
    "\n",
    "sampleStructure(dataset, \"Class_Sales_Levels\") \n"
   ]
  },
  {
   "cell_type": "code",
   "execution_count": null,
   "metadata": {},
   "outputs": [],
   "source": [
    "print( \"1. Correlations for Sales Levels Between 3,500 and 10,000\") \n",
    "c1=corrz(dataset[ dataset[\"Class_Sales_Levels\"] == \"3500_to_10K\"], argz_EPMs, \"spearman\") \n",
    "c1\n",
    "\n",
    "print( \"1b. Visual for Correlations for Sales Levels Between 3,500 and 10,000\")\n",
    "plotCorrz(c1)"
   ]
  },
  {
   "cell_type": "code",
   "execution_count": null,
   "metadata": {
    "scrolled": true
   },
   "outputs": [],
   "source": [
    "\n",
    "## TODO: lambda and crosstab\n",
    "#pd.Series( dataset[\"Class_Sales_Levels\"]).apply( lambda x: plotCorrz( corrz(dataset[ dataset[\"Class_Sales_Levels\"] == x], argz_EPMs) )   )\n",
    "\n",
    "print( \"2. Correlations for Sales Levels Below 3500\") \n",
    "corrz(dataset[ dataset[\"Class_Sales_Levels\"] == \"Below_3500\"], argz_EPMs, \"spearman\") \n",
    "print( \"3. Correlations for Sales Levels Above 10,000\") \n",
    "corrz(dataset[ dataset[\"Class_Sales_Levels\"] == \"Above_10K\"], argz_EPMs, \"spearman\") "
   ]
  },
  {
   "cell_type": "markdown",
   "metadata": {
    "collapsed": true
   },
   "source": [
    " ### By HH Quintiles "
   ]
  },
  {
   "cell_type": "code",
   "execution_count": null,
   "metadata": {
    "scrolled": false
   },
   "outputs": [],
   "source": [
    "#pd.Series( dataset[\"Quints_Households Registered\"]).apply( \n",
    "#    lambda x: corrz( dataset[ (dataset[\"Quints_Households Registered\"] == x) ], argz_U5_diseases+argz_U5_care+argz_U1_care)\n",
    "#)\n",
    "\n",
    "sampleStructure(dataset, \"Quints_Households Registered\") "
   ]
  },
  {
   "cell_type": "code",
   "execution_count": null,
   "metadata": {
    "scrolled": false
   },
   "outputs": [],
   "source": [
    "## TODO: lambda and/or cross tabs \n",
    "#pd.Series( dataset[\"Class_Sales_Levels\"]).apply( lambda x: plotCorrz( corrz(dataset[ dataset[\"Class_Sales_Levels\"] == x], argz_EPMs) )   )\n",
    "\n",
    "print( \"1. HH Registered Quintile 1 Correlations\") \n",
    "corrz(dataset[ dataset[\"Quints_Households Registered\"] == \"HH_Quints_1\"], argz_EPMs) \n",
    "print( \"2. HH Registered Quintile 2 Correlations\") \n",
    "corrz(dataset[ dataset[\"Quints_Households Registered\"] == \"HH_Quints_2\"], argz_EPMs) \n",
    "print( \"3. HH Registered Quintile 3 Correlations\") \n",
    "corrz(dataset[ dataset[\"Quints_Households Registered\"] == \"HH_Quints_3\"], argz_EPMs) \n",
    "print( \"4. HH Registered Quintile 4 Correlations\") \n",
    "corrz(dataset[ dataset[\"Quints_Households Registered\"] == \"HH_Quints_4\"], argz_EPMs) \n",
    "print( \"5. HH Registered Quintile 5 Correlations\") \n",
    "corrz(dataset[ dataset[\"Quints_Households Registered\"] == \"HH_Quints_5\"], argz_EPMs) "
   ]
  }
 ],
 "metadata": {
  "kernelspec": {
   "display_name": "Python 3",
   "language": "python",
   "name": "python3"
  },
  "language_info": {
   "codemirror_mode": {
    "name": "ipython",
    "version": 3
   },
   "file_extension": ".py",
   "mimetype": "text/x-python",
   "name": "python",
   "nbconvert_exporter": "python",
   "pygments_lexer": "ipython3",
   "version": "3.6.3"
  },
  "toc": {
   "nav_menu": {},
   "number_sections": true,
   "sideBar": true,
   "skip_h1_title": false,
   "title_cell": "Table of Contents",
   "title_sidebar": "Contents",
   "toc_cell": true,
   "toc_position": {},
   "toc_section_display": true,
   "toc_window_display": false
  }
 },
 "nbformat": 4,
 "nbformat_minor": 2
}
