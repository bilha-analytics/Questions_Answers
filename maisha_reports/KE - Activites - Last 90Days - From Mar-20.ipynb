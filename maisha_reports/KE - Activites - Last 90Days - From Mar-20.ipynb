{
 "cells": [
  {
   "cell_type": "raw",
   "metadata": {},
   "source": [
    "<script>\n",
    "  function code_toggle() {\n",
    "    if (code_shown){\n",
    "      $('div.input').hide('500');\n",
    "      $('#toggleButton').val('Show Code')\n",
    "    } else {\n",
    "      $('div.input').show('500');\n",
    "      $('#toggleButton').val('Hide Code')\n",
    "    }\n",
    "    code_shown = !code_shown\n",
    "  }\n",
    "\n",
    "  $( document ).ready(function(){\n",
    "    code_shown=false;\n",
    "    $('div.input').hide()\n",
    "  });\n",
    "</script>\n",
    "<form action=\"javascript:code_toggle()\"><input type=\"submit\" id=\"toggleButton\" value=\"Show Code\"></form>"
   ]
  },
  {
   "cell_type": "markdown",
   "metadata": {
    "toc": true
   },
   "source": [
    "<h1>Table of Contents<span class=\"tocSkip\"></span></h1>\n",
    "<div class=\"toc\"><ul class=\"toc-item\"><li><span><a href=\"#Understanding-Sales\" data-toc-modified-id=\"Understanding-Sales-1\"><span class=\"toc-item-num\">1&nbsp;&nbsp;</span>Understanding Sales</a></span><ul class=\"toc-item\"><li><span><a href=\"#Introduction\" data-toc-modified-id=\"Introduction-1.1\"><span class=\"toc-item-num\">1.1&nbsp;&nbsp;</span>Introduction</a></span><ul class=\"toc-item\"><li><span><a href=\"#Data-structure\" data-toc-modified-id=\"Data-structure-1.1.1\"><span class=\"toc-item-num\">1.1.1&nbsp;&nbsp;</span>Data structure</a></span></li><li><span><a href=\"#Limitations\" data-toc-modified-id=\"Limitations-1.1.2\"><span class=\"toc-item-num\">1.1.2&nbsp;&nbsp;</span>Limitations</a></span></li><li><span><a href=\"#View-of-All-Data\" data-toc-modified-id=\"View-of-All-Data-1.1.3\"><span class=\"toc-item-num\">1.1.3&nbsp;&nbsp;</span>View of All Data</a></span></li><li><span><a href=\"#Summary-Stats\" data-toc-modified-id=\"Summary-Stats-1.1.4\"><span class=\"toc-item-num\">1.1.4&nbsp;&nbsp;</span>Summary Stats</a></span></li></ul></li><li><span><a href=\"#Correlations-Between-Health-&amp;-Operations\" data-toc-modified-id=\"Correlations-Between-Health-&amp;-Operations-1.2\"><span class=\"toc-item-num\">1.2&nbsp;&nbsp;</span>Correlations Between Health &amp; Operations</a></span><ul class=\"toc-item\"><li><span><a href=\"#KPIs\" data-toc-modified-id=\"KPIs-1.2.1\"><span class=\"toc-item-num\">1.2.1&nbsp;&nbsp;</span>KPIs</a></span></li><li><span><a href=\"#Diseases/Cases\" data-toc-modified-id=\"Diseases/Cases-1.2.2\"><span class=\"toc-item-num\">1.2.2&nbsp;&nbsp;</span>Diseases/Cases</a></span></li><li><span><a href=\"#Sales-Activity\" data-toc-modified-id=\"Sales-Activity-1.2.3\"><span class=\"toc-item-num\">1.2.3&nbsp;&nbsp;</span>Sales Activity</a></span><ul class=\"toc-item\"><li><span><a href=\"#Meets-Sales-Target\" data-toc-modified-id=\"Meets-Sales-Target-1.2.3.1\"><span class=\"toc-item-num\">1.2.3.1&nbsp;&nbsp;</span>Meets Sales Target</a></span></li><li><span><a href=\"#Misses-Sales-Target\" data-toc-modified-id=\"Misses-Sales-Target-1.2.3.2\"><span class=\"toc-item-num\">1.2.3.2&nbsp;&nbsp;</span>Misses Sales Target</a></span></li><li><span><a href=\"#Regressions\" data-toc-modified-id=\"Regressions-1.2.3.3\"><span class=\"toc-item-num\">1.2.3.3&nbsp;&nbsp;</span>Regressions</a></span></li></ul></li></ul></li></ul></li></ul></div>"
   ]
  },
  {
   "cell_type": "code",
   "execution_count": null,
   "metadata": {
    "collapsed": true
   },
   "outputs": [],
   "source": [
    "## Setup\n",
    "# load libs/modules\n",
    "%run \"../utils/load_envz.ipynb\""
   ]
  },
  {
   "cell_type": "code",
   "execution_count": null,
   "metadata": {
    "collapsed": true
   },
   "outputs": [],
   "source": [
    "# Load data set \n",
    "DATA_DIR = \"../dataset\"\n",
    "DATA_FILE = \"targeted_chv_support_ke-20180320.csv\" \n",
    "dataset = pd.read_csv( \"%s/%s\" % (DATA_DIR, DATA_FILE) )\n",
    "\n",
    "dataset.drop( \"Phone Number\", axis=1, inplace=True )"
   ]
  },
  {
   "cell_type": "code",
   "execution_count": null,
   "metadata": {
    "collapsed": true
   },
   "outputs": [],
   "source": [
    "## themes | variable - outcome mapping\n",
    "argz_Units = [\"CHP ID\", \"Households Registered\"] \n",
    "argz_Ops = [ \"Sales\", \"Community Events\"]\n",
    "argz_pregoz = [ \"Pregnancy\", \"PNC Visit Rate\", \"PNC Visit Missed - #\"]\n",
    "argz_U5_care = [\"Total U5 Assessments\", \"Total U5 Treatments\"]\n",
    "argz_U1_care = [\"Total U1 Assessments\", \"Total U1 Treatments\"]\n",
    "argz_malaria = [ \"All Malaria Assessments\", \"All Malaria Treatments\", \"Act 6pack Issue\", \"mRDT Used\", \"%mRDT\"]\n",
    "argz_U5_diseases = [\"U5 Malaria\", \"U5 Diarrhea\", \"U5 Pneumonia\"]\n",
    "\n",
    "# \"Total U1 Assessments\",  assumes U1 follows U5 \n",
    "argz_EPMs = [\"Households Registered\", \"Sales\", \"Community Events\", \"Total Child Assessments\", \"Pregnancy\"]\n",
    "\n",
    "## Additional Columns\n",
    "dataset[\"Country\"] = \"KE\"\n",
    "dataset[\"Total Child Assessments\"] = dataset[\"Total U1 Assessments\"] + dataset[\"Total U5 Assessments\"]\n",
    "dataset[\"Total Child Treatments\"] = dataset[\"Total U1 Treatments\"] + dataset[\"Total U5 Treatments\"]\n",
    "#dataset[\"HHQuintiles\"] = pd.qcut( dataset[\"Households Registered\"], 5, labels=[\"HH_Quint_1\", \"HH_Quint_2\", \"HH_Quint_3\", \"HH_Quint_4\", \"HH_Quint_5\"])\n",
    "dnul = pd.Series( [\"Households Registered\"]).apply( lambda x: quintilize(dataset, x, labelzPrefix=\"HH_Quints\" ) )\n",
    "dataset[\"Class_Sales_Levels\"] = np.where( dataset[\"Sales\"] < 2040 , \"Below_2040\", \n",
    "                                         np.where(dataset[\"Sales\"] < 4080, \"2040_to_4080\", \n",
    "                                                 np.where(dataset[\"Sales\"] < 6120, \"4080_to_6120\", \n",
    "                                                         np.where(dataset[\"Sales\"] < 8160, \"6120_to_8160\", \n",
    "                                                                 np.where(dataset[\"Sales\"] < 10200, \"8160_to_10200\", \"Above_10K\")))) ) \n"
   ]
  },
  {
   "cell_type": "markdown",
   "metadata": {},
   "source": [
    "# Understanding Sales\n",
    "\n",
    "## Introduction\n",
    "\n",
    "- Looking at KE CHP data for last 90 days as at 20-Mar-2018\n",
    "\n",
    "\n",
    "- Some questions of interest\n",
    "    - What makes sales better?\n",
    "    - What relationships between sales and health activities? \n",
    "\n",
    "- The presented findings are conjectures and not prescriptive or suggestive of causality\n",
    "    - Need interpretation with more context on how the variables follow from the initiative/program workflows. \n",
    "\n",
    "\n",
    "### Data structure \n",
    "- There are 1493 CHPs. Each record relates to a CHP.\n",
    "- Each record is an aggregate of a CHPs activities for the period (90 days until 20-Mar)\n",
    "- Outliers are excluded in the analysis. Identification of outliers is based on household registration distribution. \n",
    "\n",
    "\n",
    "### Limitations\n",
    "- Data does not have geographic mapping \n",
    "- No daily records for time series exploration \n",
    "\n"
   ]
  },
  {
   "cell_type": "code",
   "execution_count": null,
   "metadata": {
    "scrolled": false
   },
   "outputs": [],
   "source": [
    "b4_g = sns.distplot( dataset[\"Households Registered\"])\n",
    "b4_s = sampleStructure(dataset, \"Country\") \n",
    "b4_d = summarizer( dataset )\n",
    "## Remove outliers\n",
    "# updating dataset to HH > 20 and < 250 \n",
    "dt_outliers = dataset[ (dataset[\"Households Registered\"] < 20) | (dataset[\"Households Registered\"] > 250) ]\n",
    "dataset.drop( dt_outliers.index, inplace=True) #<< TODO: go back to boolean indexing\n",
    "\n",
    "a4_g = sns.distplot( dataset[\"Households Registered\"])\n",
    "a4_s = sampleStructure(dataset, \"Country\") \n",
    "a4_d = summarizer( dataset )"
   ]
  },
  {
   "cell_type": "markdown",
   "metadata": {},
   "source": [
    "### View of All Data\n",
    "\n",
    "For this section outliers are included.\n",
    "\n",
    "- There are 1493 CHPs in the period\n",
    "    - Average # households per CHP is 100\n",
    "    - Total of 148,764 households registered \n",
    "\n",
    "\n",
    "- Total Sales of KES 646,630\n",
    "    - Average sales per CHP is kES 433 \n",
    "    "
   ]
  },
  {
   "cell_type": "code",
   "execution_count": null,
   "metadata": {},
   "outputs": [],
   "source": [
    "\n",
    "print( \"All Data Including Outliers - Counts and Averages per CHP\")\n",
    "b4_s"
   ]
  },
  {
   "cell_type": "markdown",
   "metadata": {},
   "source": [
    "### Summary Stats\n",
    "\n",
    "For this section outliers are included.\n"
   ]
  },
  {
   "cell_type": "code",
   "execution_count": null,
   "metadata": {
    "scrolled": true
   },
   "outputs": [],
   "source": [
    "#dataset[ [\"Total Child Assessments\", \"Total Child Treatments\", \"All Malaria Assessments\",\"U5 Malaria\", \"U5 Diarrhea\", \"U5 Pneumonia\", \"Pregnancy\", \"Community Events\"]].plot(kind=\"box\", figsize=(17,9), ylim=(-5,35))\n",
    "\n",
    "b4_d"
   ]
  },
  {
   "cell_type": "markdown",
   "metadata": {},
   "source": [
    "## Correlations Between Health & Operations\n",
    "\n",
    "** *From this section onwards outliers are removed.* **\n",
    "\n",
    "\n",
    "**Interprating Correlations:** Correlation coefficients whose magnitude are\n",
    "- between 0.9 and 1.0 indicate variables which can be considered very highly correlated.\n",
    "- between 0.7 and 0.9 indicate variables which can be considered highly correlated.\n",
    "- between 0.5 and 0.7 indicate variables which can be considered moderately correlated.\n",
    "- between 0.3 and 0.5 indicate variables which have a low correlation.\n",
    "- less than 0.3 have little if any (linear) correlation.\n",
    "Note though, the above may change depending on nature of outcomes/study. E.G. for social sciences 0.3 may be a threshold for strong correlations. \n",
    "- TBD: link reference \n",
    "\n",
    "\n",
    "### KPIs\n",
    "\n",
    "**Community events relate more with child assessments than with sales. ** \n",
    "- An expectation is that community events are opportunities for driving sales. \n",
    "- Comminity events are most associated with child assessments at 0.35. \n",
    "- Association with sales is little if at all at 0.17. \n",
    "\n",
    "\n",
    "\n",
    "**We potentially rarely discover new families or households outside of those we already service in some way.** \n",
    "- New pregnancies are discovered within already known households whose children are attended to OR vice versa \n",
    "    - Pregnancy is most correlated with child assessments (0.28) albeit weakly \n",
    "    \n",
    "- Household registration have not particular associations with the other indicators \n",
    "    - Correlations are very low for households registered suggesting little associations \n",
    "    - The largest magnitude is 0.15 with pregnancy registration.\n",
    " \n",
    "    \n",
    "**Child care is delivered around community events and pregnancy registration OR vice versa** \n",
    "- Child care is associated with community events (0.35) and pregnancy (0.28)\n",
    " \n",
    "\n",
    "PS: - **Households Registered** could indicate reach.  "
   ]
  },
  {
   "cell_type": "code",
   "execution_count": null,
   "metadata": {},
   "outputs": [],
   "source": [
    "#plotCorrz( corrz(dataset, argz_EPMs) )\n",
    "print(\"1. Correlation of the key KPIs\")\n",
    "cout = corrz(dataset, argz_EPMs)\n",
    "cout\n",
    "plotCorrz( cout )"
   ]
  },
  {
   "cell_type": "markdown",
   "metadata": {},
   "source": [
    "### Diseases/Cases\n",
    "\n",
    "**Malaria: we likely know how to do it well and consistently** \n",
    "- There are very strong correlations within malaria variables (see first table below).  \n",
    "- Malaria is most correlated with child treaments compared to the other diseases (see second table below). \n",
    " \n",
    "**Pneumonia: Most referral activities may be for pneumonia** and potentially b/c of U1s. \n",
    "- Correlation values are large betwen diarrhoea and pneumonia than with malaria. \n",
    "- Correlation with referral f/u is larger for pneumonia (.26)"
   ]
  },
  {
   "cell_type": "code",
   "execution_count": null,
   "metadata": {},
   "outputs": [],
   "source": [
    "## Malaria  \n",
    "print( \"2. Correlation within Malaria Variables\")\n",
    "cout1 = corrz(dataset, argz_malaria+[\"U5 Malaria\"]  )\n",
    "cout1"
   ]
  },
  {
   "cell_type": "code",
   "execution_count": null,
   "metadata": {},
   "outputs": [],
   "source": [
    "## All U5 Diseases\n",
    "## Diseases \n",
    "print( \"3. Correlation within U5 Diseases\")\n",
    "cout2 = corrz(dataset, argz_U5_diseases+[\"Total Child Assessments\", \"Total Child Treatments\",  \"On Time Referral f/u Treatment U5\"])\n",
    "cout2\n",
    "\n",
    "plotCorrz( corrz(dataset, argz_U5_diseases+[\"On Time Referral f/u Treatment U5\"]) )"
   ]
  },
  {
   "cell_type": "markdown",
   "metadata": {},
   "source": [
    "### Sales Activity\n",
    "\n",
    "- Current sales target is KES 2,040. This is used to derive buckets/categories.\n",
    "- Majority of CHPs (94%) are below that sales target. \n",
    "- For reasonable n within the buckets/categories two categories are used: 1) Meets Target and 2). Misses Target. \n"
   ]
  },
  {
   "cell_type": "code",
   "execution_count": null,
   "metadata": {
    "scrolled": true
   },
   "outputs": [],
   "source": [
    "\n",
    "print( \"1. n if we bucket sales in multiples of the target amount of KES 2040\")\n",
    "dataset[\"Class_Sales_Levels\"].value_counts()\n",
    "print(\"\\n\\n\")\n",
    "\n",
    "## Regroup\n",
    "print(\"2. n when rebucketing so that sample sizes within buckets are reasonable\")\n",
    "dataset[\"Class_Sales_Levels\"] = np.where( dataset[\"Sales\"] < 2040 , \"Below_2040\", \n",
    "                                         np.where(dataset[\"Sales\"] < 4080, \"2040_to_4080\",  \"Above_4080\")) \n",
    "dataset[\"Class_Sales_Levels\"].value_counts()\n",
    "print(\"\\n\\n\")\n"
   ]
  },
  {
   "cell_type": "code",
   "execution_count": null,
   "metadata": {},
   "outputs": [],
   "source": [
    "## Regroup \n",
    "print( \"3. n if bucketing into two groups: Meets Target Vs Misses Target (Occam's Razor + dummy variable)\")\n",
    "dataset[\"Meets.Sales.Target\"] = np.where( dataset[\"Sales\"] < 2040, \"Misses Target\", \"Meets Target\")\n",
    "dataset[\"Meets.Sales.Target\"].value_counts()\n",
    "print(\"\\n\\n\")\n",
    "#pd.get_dummies( dataset[\"Meets.Sales.Target\"])\n"
   ]
  },
  {
   "cell_type": "code",
   "execution_count": null,
   "metadata": {
    "scrolled": true
   },
   "outputs": [],
   "source": [
    "print(\"\\n4. Sample Tallies by Sales Target buckets\")\n",
    "sampleStructure(dataset, \"Meets.Sales.Target\") \n",
    "print(\"\\n\\n\")"
   ]
  },
  {
   "cell_type": "markdown",
   "metadata": {},
   "source": [
    "** t-tests on the means** "
   ]
  },
  {
   "cell_type": "code",
   "execution_count": null,
   "metadata": {
    "scrolled": false
   },
   "outputs": [],
   "source": [
    "from scipy.stats import ttest_ind \n",
    "\n",
    "print( \"a. t-test Sales means between those that meet sales target and those that don't \")\n",
    "ttest_ind( dataset[dataset[\"Meets.Sales.Target\"] == \"Meets Target\"][\"Sales\"], dataset[dataset[\"Meets.Sales.Target\"] == \"Misses Target\"][\"Sales\"])\n",
    "\n",
    "print(\"\\n\\n\")\n",
    "\n",
    "print( \"b. t-test Household registration means between those that meet sales target and those that don't \")\n",
    "ttest_ind( dataset[dataset[\"Meets.Sales.Target\"] == \"Meets Target\"][\"Households Registered\"], dataset[dataset[\"Meets.Sales.Target\"] == \"Misses Target\"][\"Households Registered\"])\n",
    "\n",
    "\n",
    "print(\"\\n\\n\")\n",
    "\n",
    "print( \"c. t-test Total child assessments means between those that meet sales target and those that don't \")\n",
    "ttest_ind( dataset[dataset[\"Meets.Sales.Target\"] == \"Meets Target\"][\"Total Child Assessments\"], dataset[dataset[\"Meets.Sales.Target\"] == \"Misses Target\"][\"Total Child Assessments\"])\n",
    "\n",
    "print(\"\\n\\n\")\n",
    "\n",
    "print( \"d. t-test all malaria assessments means between those that meet sales target and those that don't \")\n",
    "ttest_ind( dataset[dataset[\"Meets.Sales.Target\"] == \"Meets Target\"][\"All Malaria Assessments\"], dataset[dataset[\"Meets.Sales.Target\"] == \"Misses Target\"][\"All Malaria Assessments\"])\n",
    "\n",
    "\n",
    "print(\"\\n\\n\")\n",
    "\n",
    "print( \"e. t-test pregnacy means between those that meet sales target and those that don't \")\n",
    "ttest_ind( dataset[dataset[\"Meets.Sales.Target\"] == \"Meets Target\"][\"Pregnancy\"], dataset[dataset[\"Meets.Sales.Target\"] == \"Misses Target\"][\"Pregnancy\"])\n",
    "\n",
    "\n",
    "print(\"\\n\\n\")\n",
    "\n",
    "print( \"f. t-test total U1 assessments means between those that meet sales target and those that don't \")\n",
    "ttest_ind( dataset[dataset[\"Meets.Sales.Target\"] == \"Meets Target\"][\"Total U1 Assessments\"], dataset[dataset[\"Meets.Sales.Target\"] == \"Misses Target\"][\"Total U1 Assessments\"])\n",
    "\n",
    "\n"
   ]
  },
  {
   "cell_type": "markdown",
   "metadata": {},
   "source": [
    "\n",
    "**SUMMARY**\n",
    "- Both groups have association between community events and child assessments.\n",
    "\n",
    "- Both groups have little or no association for sales and other activities\n",
    "\n",
    "- \n",
    "\n",
    "\n",
    "\n",
    "\n",
    "#### Meets Sales Target\n",
    "- 85 or 6% of the CHPs have met sales target in the period. \n",
    "\n",
    "\n",
    "- This group also has higher average household registrations, average pregnancy per CHP and average child assessments per CHP. \n",
    "    - t-tests on diferences between those means show statistically significant differences in the means. \n",
    "    - They are potentially a representation of strong CHPs.\n",
    "        - TBD: How does ther performance relate to their graduation scores?\n",
    "\n",
    "- Ableit small in magnitude, there are negative correlations\n",
    "    - Household registration has negative association with community events and child assessment. \n",
    "    - Sales have negative association with child assessments\n",
    "\n",
    "- Pregnancy registration are most associated with household registration.\n",
    "    - Wonder if they register more new households during the year (after graduation) compared to those that don't meet targets.\n",
    "\n",
    "- Sales have little or no association with the other activities. \n",
    "\n",
    "- Community events are associated with child assessments.  \n",
    "    "
   ]
  },
  {
   "cell_type": "code",
   "execution_count": null,
   "metadata": {
    "scrolled": true
   },
   "outputs": [],
   "source": [
    "print( \"1. Correlations for Meets Sales Targett\") \n",
    "c1=corrz(dataset[ dataset[\"Meets.Sales.Target\"] == \"Meets Target\"], argz_EPMs, \"spearman\") \n",
    "c1\n",
    "\n",
    "print( \"1b. Visual for Correlations for Meets Sales Targett\")\n",
    "plotCorrz(c1)"
   ]
  },
  {
   "cell_type": "markdown",
   "metadata": {},
   "source": [
    "#### Misses Sales Target\n",
    "- 94% missed sales target of KES 2040.\n",
    "\n",
    "\n",
    "- This group has similar averages per CHP with the \"meet target\" group for malaria. \n",
    "    - t-tests on diferences between those means show that the groups/means are not statistically significant. They are indeed the similar populations  \n",
    "\n",
    "\n",
    "- This group has no negative correlations. \n",
    "\n",
    "\n",
    "- Households registration is more associated with Sales and pregnancy (0.15: 0.153 and 0.147 respectively). \n",
    "    - Could this group be pitching sales during household visits more than the other group? \n",
    "    - The magnitudes are low, though \n",
    "\n",
    "- Magnitude of sales correlations are larger for this group. However, sales are more associated with child assessment than with community events. \n",
    "    - the group that meets sales target has a negative correlation with child assessment. \n",
    "    - This group likely makes a sales pitch around each child assessment while the other group doesn't. \n",
    "    - **Could it be that pitching during care delivery is not good for closing a sale?** \n",
    "    \n",
    "- Community events are more associated with child assessment for this group as well. \n",
    "    \n",
    "\n",
    "- Pregnancy and child assessment are associated for this group (0.305) just like in the other group, but for this group pregnancy is not as associated with household registration\n",
    "    - "
   ]
  },
  {
   "cell_type": "code",
   "execution_count": null,
   "metadata": {
    "scrolled": true
   },
   "outputs": [],
   "source": [
    "print( \"2. Correlations for Misses Sales Targett\") \n",
    "c1=corrz(dataset[ dataset[\"Meets.Sales.Target\"] == \"Misses Target\"], argz_EPMs, \"spearman\") \n",
    "c1\n",
    "\n",
    "print( \"2b. Visual for Correlations for Misses Sales Targett\")\n",
    "plotCorrz(c1)"
   ]
  },
  {
   "cell_type": "markdown",
   "metadata": {
    "collapsed": true
   },
   "source": [
    "#### Regressions\n"
   ]
  },
  {
   "cell_type": "code",
   "execution_count": null,
   "metadata": {
    "collapsed": true
   },
   "outputs": [],
   "source": []
  }
 ],
 "metadata": {
  "kernelspec": {
   "display_name": "Python 3",
   "language": "python",
   "name": "python3"
  },
  "language_info": {
   "codemirror_mode": {
    "name": "ipython",
    "version": 3
   },
   "file_extension": ".py",
   "mimetype": "text/x-python",
   "name": "python",
   "nbconvert_exporter": "python",
   "pygments_lexer": "ipython3",
   "version": "3.6.3"
  },
  "toc": {
   "nav_menu": {},
   "number_sections": true,
   "sideBar": true,
   "skip_h1_title": false,
   "title_cell": "Table of Contents",
   "title_sidebar": "Contents",
   "toc_cell": true,
   "toc_position": {},
   "toc_section_display": true,
   "toc_window_display": false
  }
 },
 "nbformat": 4,
 "nbformat_minor": 2
}
